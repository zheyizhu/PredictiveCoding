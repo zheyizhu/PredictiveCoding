{
 "cells": [
  {
   "cell_type": "code",
   "execution_count": 35,
   "metadata": {},
   "outputs": [
    {
     "name": "stdout",
     "output_type": "stream",
     "text": [
      "Using device: cpu\n",
      "torch.Size([10000, 10])\n",
      "Epoch 1/20\n"
     ]
    },
    {
     "name": "stderr",
     "output_type": "stream",
     "text": [
      "Training Batches:   4%|▎         | 17/469 [00:18<08:06,  1.08s/it]\n"
     ]
    },
    {
     "ename": "KeyboardInterrupt",
     "evalue": "",
     "output_type": "error",
     "traceback": [
      "\u001b[0;31m---------------------------------------------------------------------------\u001b[0m",
      "\u001b[0;31mKeyboardInterrupt\u001b[0m                         Traceback (most recent call last)",
      "Cell \u001b[0;32mIn[35], line 262\u001b[0m\n\u001b[1;32m    260\u001b[0m \u001b[38;5;28;01mfor\u001b[39;00m epoch \u001b[38;5;129;01min\u001b[39;00m \u001b[38;5;28mrange\u001b[39m(num_epochs):\n\u001b[1;32m    261\u001b[0m     \u001b[38;5;28mprint\u001b[39m(\u001b[38;5;124mf\u001b[39m\u001b[38;5;124m'\u001b[39m\u001b[38;5;124mEpoch \u001b[39m\u001b[38;5;132;01m{\u001b[39;00mepoch\u001b[38;5;241m+\u001b[39m\u001b[38;5;241m1\u001b[39m\u001b[38;5;132;01m}\u001b[39;00m\u001b[38;5;124m/\u001b[39m\u001b[38;5;132;01m{\u001b[39;00mnum_epochs\u001b[38;5;132;01m}\u001b[39;00m\u001b[38;5;124m'\u001b[39m)\n\u001b[0;32m--> 262\u001b[0m     train_model(model, train_loader, T \u001b[38;5;241m=\u001b[39m num_T, device \u001b[38;5;241m=\u001b[39m device, weight_optimizer_type\u001b[38;5;241m=\u001b[39mweight_optimizer_type, mu_optimizer_type \u001b[38;5;241m=\u001b[39m mu_optimizer_type, learning_rate \u001b[38;5;241m=\u001b[39m learning_rate)\n\u001b[1;32m    263\u001b[0m     evaluate_model(model, test_loader, prev_output\u001b[38;5;241m=\u001b[39mprev_output, device\u001b[38;5;241m=\u001b[39mdevice)\n",
      "Cell \u001b[0;32mIn[35], line 118\u001b[0m, in \u001b[0;36mtrain_model\u001b[0;34m(model, train_loader, T, device, weight_optimizer_type, mu_optimizer_type, learning_rate)\u001b[0m\n\u001b[1;32m    115\u001b[0m mu_optimizer \u001b[38;5;241m=\u001b[39m get_optimizer(model\u001b[38;5;241m.\u001b[39mmu\u001b[38;5;241m.\u001b[39mparameters(),mu_optimizer_type,lr \u001b[38;5;241m=\u001b[39m \u001b[38;5;241m0.2\u001b[39m)\n\u001b[1;32m    117\u001b[0m \u001b[38;5;28;01mfor\u001b[39;00m t \u001b[38;5;129;01min\u001b[39;00m \u001b[38;5;28mrange\u001b[39m(T):\n\u001b[0;32m--> 118\u001b[0m     energy \u001b[38;5;241m=\u001b[39m model\u001b[38;5;241m.\u001b[39mcompute_error()\n\u001b[1;32m    119\u001b[0m     \u001b[38;5;66;03m# print(f\"Batch {t}, Energy: {energy:.4f}\")\u001b[39;00m\n\u001b[1;32m    120\u001b[0m     mu_optimizer\u001b[38;5;241m.\u001b[39mzero_grad()\n",
      "Cell \u001b[0;32mIn[35], line 66\u001b[0m, in \u001b[0;36mPredictiveCoding.compute_error\u001b[0;34m(self)\u001b[0m\n\u001b[1;32m     64\u001b[0m \u001b[38;5;28;01mdef\u001b[39;00m \u001b[38;5;21mcompute_error\u001b[39m(\u001b[38;5;28mself\u001b[39m):\n\u001b[1;32m     65\u001b[0m     \u001b[38;5;28;01mfor\u001b[39;00m l \u001b[38;5;129;01min\u001b[39;00m \u001b[38;5;28mrange\u001b[39m(\u001b[38;5;241m1\u001b[39m, \u001b[38;5;28mlen\u001b[39m(\u001b[38;5;28mself\u001b[39m\u001b[38;5;241m.\u001b[39mmu)):\n\u001b[0;32m---> 66\u001b[0m         layer_output \u001b[38;5;241m=\u001b[39m \u001b[38;5;28mself\u001b[39m\u001b[38;5;241m.\u001b[39mlayers[l\u001b[38;5;241m-\u001b[39m\u001b[38;5;241m1\u001b[39m](\u001b[38;5;28mself\u001b[39m\u001b[38;5;241m.\u001b[39mactivation((\u001b[38;5;28mself\u001b[39m\u001b[38;5;241m.\u001b[39mmu[l\u001b[38;5;241m-\u001b[39m\u001b[38;5;241m1\u001b[39m])))\n\u001b[1;32m     67\u001b[0m         \u001b[38;5;66;03m# variance = torch.var(self.mu[l], dim=0, keepdim=True)  # Compute variance\u001b[39;00m\n\u001b[1;32m     68\u001b[0m         \u001b[38;5;28mself\u001b[39m\u001b[38;5;241m.\u001b[39merror[l] \u001b[38;5;241m=\u001b[39m (\u001b[38;5;28mself\u001b[39m\u001b[38;5;241m.\u001b[39mmu[l] \u001b[38;5;241m-\u001b[39m layer_output) \u001b[38;5;66;03m#/ torch.sqrt(variance + 1e-8)  # Add small value to avoid division by zero\u001b[39;00m\n",
      "File \u001b[0;32m/opt/miniconda3/envs/myenv/lib/python3.12/site-packages/torch/nn/modules/module.py:1532\u001b[0m, in \u001b[0;36mModule._wrapped_call_impl\u001b[0;34m(self, *args, **kwargs)\u001b[0m\n\u001b[1;32m   1530\u001b[0m     \u001b[38;5;28;01mreturn\u001b[39;00m \u001b[38;5;28mself\u001b[39m\u001b[38;5;241m.\u001b[39m_compiled_call_impl(\u001b[38;5;241m*\u001b[39margs, \u001b[38;5;241m*\u001b[39m\u001b[38;5;241m*\u001b[39mkwargs)  \u001b[38;5;66;03m# type: ignore[misc]\u001b[39;00m\n\u001b[1;32m   1531\u001b[0m \u001b[38;5;28;01melse\u001b[39;00m:\n\u001b[0;32m-> 1532\u001b[0m     \u001b[38;5;28;01mreturn\u001b[39;00m \u001b[38;5;28mself\u001b[39m\u001b[38;5;241m.\u001b[39m_call_impl(\u001b[38;5;241m*\u001b[39margs, \u001b[38;5;241m*\u001b[39m\u001b[38;5;241m*\u001b[39mkwargs)\n",
      "File \u001b[0;32m/opt/miniconda3/envs/myenv/lib/python3.12/site-packages/torch/nn/modules/module.py:1541\u001b[0m, in \u001b[0;36mModule._call_impl\u001b[0;34m(self, *args, **kwargs)\u001b[0m\n\u001b[1;32m   1536\u001b[0m \u001b[38;5;66;03m# If we don't have any hooks, we want to skip the rest of the logic in\u001b[39;00m\n\u001b[1;32m   1537\u001b[0m \u001b[38;5;66;03m# this function, and just call forward.\u001b[39;00m\n\u001b[1;32m   1538\u001b[0m \u001b[38;5;28;01mif\u001b[39;00m \u001b[38;5;129;01mnot\u001b[39;00m (\u001b[38;5;28mself\u001b[39m\u001b[38;5;241m.\u001b[39m_backward_hooks \u001b[38;5;129;01mor\u001b[39;00m \u001b[38;5;28mself\u001b[39m\u001b[38;5;241m.\u001b[39m_backward_pre_hooks \u001b[38;5;129;01mor\u001b[39;00m \u001b[38;5;28mself\u001b[39m\u001b[38;5;241m.\u001b[39m_forward_hooks \u001b[38;5;129;01mor\u001b[39;00m \u001b[38;5;28mself\u001b[39m\u001b[38;5;241m.\u001b[39m_forward_pre_hooks\n\u001b[1;32m   1539\u001b[0m         \u001b[38;5;129;01mor\u001b[39;00m _global_backward_pre_hooks \u001b[38;5;129;01mor\u001b[39;00m _global_backward_hooks\n\u001b[1;32m   1540\u001b[0m         \u001b[38;5;129;01mor\u001b[39;00m _global_forward_hooks \u001b[38;5;129;01mor\u001b[39;00m _global_forward_pre_hooks):\n\u001b[0;32m-> 1541\u001b[0m     \u001b[38;5;28;01mreturn\u001b[39;00m forward_call(\u001b[38;5;241m*\u001b[39margs, \u001b[38;5;241m*\u001b[39m\u001b[38;5;241m*\u001b[39mkwargs)\n\u001b[1;32m   1543\u001b[0m \u001b[38;5;28;01mtry\u001b[39;00m:\n\u001b[1;32m   1544\u001b[0m     result \u001b[38;5;241m=\u001b[39m \u001b[38;5;28;01mNone\u001b[39;00m\n",
      "File \u001b[0;32m/opt/miniconda3/envs/myenv/lib/python3.12/site-packages/torch/nn/modules/linear.py:116\u001b[0m, in \u001b[0;36mLinear.forward\u001b[0;34m(self, input)\u001b[0m\n\u001b[1;32m    115\u001b[0m \u001b[38;5;28;01mdef\u001b[39;00m \u001b[38;5;21mforward\u001b[39m(\u001b[38;5;28mself\u001b[39m, \u001b[38;5;28minput\u001b[39m: Tensor) \u001b[38;5;241m-\u001b[39m\u001b[38;5;241m>\u001b[39m Tensor:\n\u001b[0;32m--> 116\u001b[0m     \u001b[38;5;28;01mreturn\u001b[39;00m F\u001b[38;5;241m.\u001b[39mlinear(\u001b[38;5;28minput\u001b[39m, \u001b[38;5;28mself\u001b[39m\u001b[38;5;241m.\u001b[39mweight, \u001b[38;5;28mself\u001b[39m\u001b[38;5;241m.\u001b[39mbias)\n",
      "\u001b[0;31mKeyboardInterrupt\u001b[0m: "
     ]
    }
   ],
   "source": [
    "import torch\n",
    "from torchviz import make_dot\n",
    "\n",
    "import torch.nn as nn\n",
    "import torch.optim as optim\n",
    "from torch.utils.data import DataLoader\n",
    "from torchvision import datasets, transforms\n",
    "from tqdm import tqdm\n",
    "\n",
    "import os\n",
    "os.environ[\"OMP_NUM_THREADS\"] = \"4\"\n",
    "\n",
    "class PredictiveCoding(nn.Module):\n",
    "    def __init__(\n",
    "        self,\n",
    "        layer_dims=[784, 100, 10],\n",
    "        activation_type=\"sigmoid\",\n",
    "        bias=False,\n",
    "    ):\n",
    "        super().__init__()\n",
    "\n",
    "        self.layer_dims = layer_dims\n",
    "        self.num_layers = len(self.layer_dims)\n",
    "        self.activation_type = activation_type\n",
    "        self.bias = bias\n",
    "\n",
    "        # Create linear layers using a ModuleList\n",
    "        self.layers = nn.ModuleList()\n",
    "        self.layer_norms = nn.ModuleList()\n",
    "        for i in range(len(self.layer_dims) - 1):\n",
    "            layer = nn.Linear(self.layer_dims[i], self.layer_dims[i + 1], bias=bias)\n",
    "            nn.init.xavier_uniform_(layer.weight)  # Xavier initialization\n",
    "            self.layers.append(layer)\n",
    "\n",
    "\n",
    "        self._set_activation()\n",
    "        self.softmax = nn.Softmax(dim=1)\n",
    "        self.E = 0  \n",
    "        self.mu = nn.ParameterList([nn.Parameter(torch.zeros(1, dim), requires_grad=(i not in [0, len(layer_dims) - 1])) for i, dim in enumerate(layer_dims)])\n",
    "        self.error = [torch.zeros(1, dim) for dim in layer_dims]\n",
    "\n",
    "\n",
    "    def _set_activation(self):\n",
    "        # Set activation function\n",
    "        if self.activation_type.lower() == \"sigmoid\":\n",
    "            self.activation = nn.Sigmoid()\n",
    "        elif self.activation_type.lower() == \"tanh\":\n",
    "            self.activation = nn.Tanh()\n",
    "        elif self.activation_type.lower() == \"relu\":\n",
    "            self.activation = nn.ReLU()\n",
    "        elif self.activation_type.lower() == \"identity\":\n",
    "            self.activation = nn.Identity()\n",
    "        else:\n",
    "            raise NotImplementedError(f\"Activation type '{self.activation_type}' is not recognized.\")\n",
    "\n",
    "    def clamp_input(self, input):\n",
    "        # Explicitly set the first layer's mu to the input tensor\n",
    "        self.mu[0].data = input.clone().detach().to(device)\n",
    "\n",
    "    def clamp_output(self, output):\n",
    "        # Explicitly set the last layer's mu to the output (target) tensor\n",
    "        self.mu[-1].data = output.clone().detach().to(device)\n",
    "\n",
    "    def compute_error(self):\n",
    "        for l in range(1, len(self.mu)):\n",
    "            layer_output = self.layers[l-1](self.activation((self.mu[l-1])))\n",
    "            # variance = torch.var(self.mu[l], dim=0, keepdim=True)  # Compute variance\n",
    "            self.error[l] = (self.mu[l] - layer_output) #/ torch.sqrt(variance + 1e-8)  # Add small value to avoid division by zero\n",
    "\n",
    "        batch_size = self.mu[0].shape[0]\n",
    "        self.E = 128*torch.sum(torch.stack([torch.sum(0.5 * error ** 2)/batch_size for error in self.error]))\n",
    "        return self.E\n",
    "\n",
    "    def label_pred(self, x):\n",
    "        # Forward pass through the network\n",
    "        for i, layer in enumerate(self.layers):\n",
    "            x = layer(self.activation(x))\n",
    "        return self.softmax(x)\n",
    "\n",
    "\n",
    "def get_optimizer(parameters, optimizer_type, lr):\n",
    "    if optimizer_type == \"sgd\":\n",
    "        return optim.SGD(parameters, lr=lr)\n",
    "    elif optimizer_type == \"adam\":\n",
    "        return optim.Adam(parameters, lr=lr)\n",
    "    elif optimizer_type == \"adamw\":\n",
    "        return optim.AdamW(parameters, lr=lr)\n",
    "    else:\n",
    "        raise ValueError(f\"Optimizer '{optimizer_type}' is not supported.\")\n",
    "    \n",
    "\n",
    "\n",
    "def train_model(model, train_loader, T=3, device=\"cpu\", weight_optimizer_type = \"sgd\", mu_optimizer_type = \"sgd\", learning_rate=0.003):\n",
    "\n",
    "    total_energy = 0\n",
    "    weight_optimizer = get_optimizer(\n",
    "        (param for layer in model.layers for param in layer.parameters()), \n",
    "        weight_optimizer_type, \n",
    "        lr=learning_rate\n",
    "    )\n",
    "\n",
    "    for batch_idx, (data, target) in tqdm(enumerate(train_loader), desc=\"Training Batches\", total=len(train_loader)):\n",
    "\n",
    "        input_pattern = data.view(data.size(0), -1).to(device)\n",
    "        target_pattern =  torch.nn.functional.one_hot(target, num_classes=10).float().to(device)\n",
    "\n",
    "\n",
    "        batch_size = data.size(0)\n",
    "        model.mu = nn.ParameterList([nn.Parameter(torch.zeros(batch_size, dim).to(device), requires_grad=(i not in [0, len(model.layer_dims) - 1])) for i, dim in enumerate(model.layer_dims)])\n",
    "        model.error = [torch.zeros(batch_size, dim).to(device) for dim in model.layer_dims]\n",
    "        model.clamp_input(input_pattern)\n",
    "        model.clamp_output(target_pattern)\n",
    "\n",
    "\n",
    "        mu_optimizer = get_optimizer(model.mu.parameters(),mu_optimizer_type,lr = 0.2)\n",
    "\n",
    "        for t in range(T):\n",
    "            energy = model.compute_error()\n",
    "            # print(f\"Batch {t}, Energy: {energy:.4f}\")\n",
    "            mu_optimizer.zero_grad()\n",
    "            energy.backward()\n",
    "            mu_optimizer.step()\n",
    "        \n",
    "        energy = model.compute_error()\n",
    "\n",
    "        weight_optimizer.zero_grad()\n",
    "        energy.backward()\n",
    "        weight_optimizer.step()\n",
    "\n",
    "        energy = model.compute_error()\n",
    "\n",
    "        total_energy += energy\n",
    "        \n",
    "    total_energy /= len(train_loader)\n",
    "    del model.mu, model.error, mu_optimizer  \n",
    "    tqdm.write(f\"Total Energy: {total_energy:.4f}\")\n",
    "\n",
    "\n",
    "\n",
    "\n",
    "\n",
    "import torch.nn.functional as F\n",
    "\n",
    "\n",
    "def evaluate_model(model, test_loader, device=\"cpu\", prev_output=None):\n",
    "    model.eval()  # Set the model to evaluation mode\n",
    "    correct = 0\n",
    "    total = 0\n",
    "    cosine_similarities = []\n",
    "\n",
    "    batch_index = 0  # To keep track of the current batch index\n",
    "\n",
    "    with torch.no_grad():  # No need to compute gradients for evaluation\n",
    "        for data, target in test_loader:\n",
    "            input_pattern = data.view(data.size(0), -1).to(device)\n",
    "            target = target.to(device)\n",
    "            batch_size = data.size(0)\n",
    "            \n",
    "            output = model.label_pred(input_pattern)\n",
    "            _, predicted = torch.max(output, 1)\n",
    "            \n",
    "            total += target.size(0)\n",
    "            correct += (predicted == target).sum().item()\n",
    "            \n",
    "            if prev_output is not None:\n",
    "                # Slice the relevant part of prev_output for the current batch\n",
    "                prev_output_batch = prev_output[batch_index:batch_index + batch_size].to(device)\n",
    "                \n",
    "                # Convert target to one-hot vectors\n",
    "                target_one_hot = F.one_hot(target, num_classes=output.size(1)).float()\n",
    "                \n",
    "                # Compute cosine similarity\n",
    "                prev_diff = target_one_hot - prev_output_batch\n",
    "                current_diff = target_one_hot - output\n",
    "                cosine_similarity = F.cosine_similarity(prev_diff, current_diff, dim=1).mean().item()\n",
    "                cosine_similarities.append(cosine_similarity)\n",
    "            \n",
    "            # Update the batch index\n",
    "            batch_index += batch_size\n",
    "            \n",
    "            # Save the new output for future comparison\n",
    "            if prev_output is None:\n",
    "                prev_output = output.clone().detach()\n",
    "            else:\n",
    "                prev_output[batch_index - batch_size:batch_index] = output.clone().detach()\n",
    "    \n",
    "    accuracy = 100.0 * correct / total\n",
    "    print(f'Test Accuracy: {accuracy:.2f}%')\n",
    "\n",
    "    if cosine_similarities:\n",
    "        avg_cosine_similarity = sum(cosine_similarities) / len(cosine_similarities)\n",
    "        print(f'Average Cosine Similarity: {avg_cosine_similarity:.4f}')\n",
    "\n",
    "    return prev_output\n",
    "\n",
    "\n",
    "# Usage example (assuming you have defined `model`, `test_loader`, and `prev_output`):\n",
    "# evaluate_model(model, test_loader, prev_output, device=\"cpu\")\n",
    "\n",
    "def get_output(model, test_loader, device=\"cpu\"):\n",
    "    model.eval()  # Set the model to evaluation mode\n",
    "    outputs = []\n",
    "\n",
    "    with torch.no_grad():  # No need to compute gradients for evaluation\n",
    "        for data, _ in test_loader:\n",
    "            input_pattern = data.view(data.size(0), -1).to(device)\n",
    "            output = model.label_pred(input_pattern)\n",
    "            outputs.append(output.clone().detach())\n",
    "\n",
    "    # Concatenate all outputs into a single tensor\n",
    "    final_output = torch.cat(outputs, dim=0)\n",
    "    print(final_output.shape)\n",
    "    return final_output\n",
    "\n",
    "\n",
    "if __name__ == \"__main__\":\n",
    "\n",
    "    # accuracy: 95.5% weight_optimizer: adamw, num_T: 60, learning_rate: 0.001 \n",
    "\n",
    "    # Parameters\n",
    "    batch_size = 128\n",
    "\n",
    "    layer_dims=[784, 256, 128, 10]\n",
    "    num_epochs = 20\n",
    "    num_T = 60 # iteratioins of relaxation loop\n",
    "\n",
    "    mu_optimizer_type = \"sgd\" # Options: \"sgd\", \"adam\", \"adamw\"\n",
    "    weight_optimizer_type = \"adamw\" # Options: \"sgd\", \"adam\", \"adamw\"\n",
    "    learning_rate = 0.001 # learning rate for weight optimizer, learning rate for mu optimizer is set to 0.1\n",
    "\n",
    "    activation_type = \"relu\" # Options: \"sigmoid\", \"tanh\", \"relu\", \"identity\"\n",
    "    bias = True\n",
    "\n",
    "    use_gpu = False # might not be faster on GPU due to small network size\n",
    "\n",
    "\n",
    "    # Data loaders\n",
    "    transform = transforms.Compose([\n",
    "        transforms.ToTensor(),\n",
    "        transforms.Normalize((0.5,), (0.5,))\n",
    "    ])\n",
    "\n",
    "    train_dataset = datasets.MNIST(root='./data', train=True, download=True, transform=transform)\n",
    "    test_dataset = datasets.MNIST(root='./data', train=False, download=True, transform=transform)\n",
    "\n",
    "    train_loader = DataLoader(train_dataset, batch_size=batch_size, shuffle=True)\n",
    "    test_loader = DataLoader(test_dataset, batch_size=batch_size, shuffle=False)\n",
    "\n",
    "    model = PredictiveCoding(layer_dims=layer_dims, activation_type=activation_type, bias=bias) \n",
    "\n",
    "    if use_gpu:\n",
    "        device = torch.device(\"cuda\" if torch.cuda.is_available() else \"cpu\") \n",
    "    else:\n",
    "        device = torch.device(\"cpu\")\n",
    "    print(f\"Using device: {device}\")\n",
    "    model.to(device)\n",
    "\n",
    "    prev_output = get_output(model, test_loader, device=device) # Get the initial output    \n",
    "\n",
    "    for epoch in range(num_epochs):\n",
    "        print(f'Epoch {epoch+1}/{num_epochs}')\n",
    "        train_model(model, train_loader, T = num_T, device = device, weight_optimizer_type=weight_optimizer_type, mu_optimizer_type = mu_optimizer_type, learning_rate = learning_rate)\n",
    "        evaluate_model(model, test_loader, prev_output=prev_output, device=device)\n",
    "\n",
    "    \n"
   ]
  },
  {
   "cell_type": "code",
   "execution_count": 13,
   "metadata": {},
   "outputs": [
    {
     "name": "stdout",
     "output_type": "stream",
     "text": [
      "Using device: cpu\n",
      "torch.Size([10000, 10])\n",
      "Epoch 1/20\n"
     ]
    },
    {
     "name": "stderr",
     "output_type": "stream",
     "text": [
      "Training Batches: 100%|██████████| 469/469 [00:03<00:00, 139.55it/s]\n"
     ]
    },
    {
     "name": "stdout",
     "output_type": "stream",
     "text": [
      "Average Training Loss: 0.3091\n",
      "Test Accuracy: 95.68%\n",
      "Average Cosine Similarity: -0.4694\n",
      "Epoch 2/20\n"
     ]
    },
    {
     "name": "stderr",
     "output_type": "stream",
     "text": [
      "Training Batches: 100%|██████████| 469/469 [00:03<00:00, 151.86it/s]\n"
     ]
    },
    {
     "name": "stdout",
     "output_type": "stream",
     "text": [
      "Average Training Loss: 0.1154\n",
      "Test Accuracy: 97.00%\n",
      "Average Cosine Similarity: 0.9601\n",
      "Epoch 3/20\n"
     ]
    },
    {
     "name": "stderr",
     "output_type": "stream",
     "text": [
      "Training Batches: 100%|██████████| 469/469 [00:03<00:00, 149.48it/s]\n"
     ]
    },
    {
     "name": "stdout",
     "output_type": "stream",
     "text": [
      "Average Training Loss: 0.0735\n",
      "Test Accuracy: 96.89%\n",
      "Average Cosine Similarity: 0.9686\n",
      "Epoch 4/20\n"
     ]
    },
    {
     "name": "stderr",
     "output_type": "stream",
     "text": [
      "Training Batches: 100%|██████████| 469/469 [00:03<00:00, 154.67it/s]\n"
     ]
    },
    {
     "name": "stdout",
     "output_type": "stream",
     "text": [
      "Average Training Loss: 0.0506\n",
      "Test Accuracy: 97.46%\n",
      "Average Cosine Similarity: 0.9694\n",
      "Epoch 5/20\n"
     ]
    },
    {
     "name": "stderr",
     "output_type": "stream",
     "text": [
      "Training Batches: 100%|██████████| 469/469 [00:03<00:00, 133.24it/s]\n"
     ]
    },
    {
     "name": "stdout",
     "output_type": "stream",
     "text": [
      "Average Training Loss: 0.0351\n",
      "Test Accuracy: 97.53%\n",
      "Average Cosine Similarity: 0.9808\n",
      "Epoch 6/20\n"
     ]
    },
    {
     "name": "stderr",
     "output_type": "stream",
     "text": [
      "Training Batches: 100%|██████████| 469/469 [00:03<00:00, 132.67it/s]\n"
     ]
    },
    {
     "name": "stdout",
     "output_type": "stream",
     "text": [
      "Average Training Loss: 0.0240\n",
      "Test Accuracy: 97.22%\n",
      "Average Cosine Similarity: 0.9831\n",
      "Epoch 7/20\n"
     ]
    },
    {
     "name": "stderr",
     "output_type": "stream",
     "text": [
      "Training Batches: 100%|██████████| 469/469 [00:03<00:00, 146.70it/s]\n"
     ]
    },
    {
     "name": "stdout",
     "output_type": "stream",
     "text": [
      "Average Training Loss: 0.0184\n",
      "Test Accuracy: 97.43%\n",
      "Average Cosine Similarity: 0.9697\n",
      "Epoch 8/20\n"
     ]
    },
    {
     "name": "stderr",
     "output_type": "stream",
     "text": [
      "Training Batches: 100%|██████████| 469/469 [00:03<00:00, 147.83it/s]\n"
     ]
    },
    {
     "name": "stdout",
     "output_type": "stream",
     "text": [
      "Average Training Loss: 0.0177\n",
      "Test Accuracy: 97.48%\n",
      "Average Cosine Similarity: 0.9720\n",
      "Epoch 9/20\n"
     ]
    },
    {
     "name": "stderr",
     "output_type": "stream",
     "text": [
      "Training Batches: 100%|██████████| 469/469 [00:03<00:00, 152.59it/s]\n"
     ]
    },
    {
     "name": "stdout",
     "output_type": "stream",
     "text": [
      "Average Training Loss: 0.0126\n",
      "Test Accuracy: 97.44%\n",
      "Average Cosine Similarity: 0.9637\n",
      "Epoch 10/20\n"
     ]
    },
    {
     "name": "stderr",
     "output_type": "stream",
     "text": [
      "Training Batches: 100%|██████████| 469/469 [00:03<00:00, 155.02it/s]\n"
     ]
    },
    {
     "name": "stdout",
     "output_type": "stream",
     "text": [
      "Average Training Loss: 0.0092\n",
      "Test Accuracy: 97.50%\n",
      "Average Cosine Similarity: 0.9755\n",
      "Epoch 11/20\n"
     ]
    },
    {
     "name": "stderr",
     "output_type": "stream",
     "text": [
      "Training Batches: 100%|██████████| 469/469 [00:03<00:00, 148.99it/s]\n"
     ]
    },
    {
     "name": "stdout",
     "output_type": "stream",
     "text": [
      "Average Training Loss: 0.0113\n",
      "Test Accuracy: 97.46%\n",
      "Average Cosine Similarity: 0.9775\n",
      "Epoch 12/20\n"
     ]
    },
    {
     "name": "stderr",
     "output_type": "stream",
     "text": [
      "Training Batches: 100%|██████████| 469/469 [00:03<00:00, 156.31it/s]\n"
     ]
    },
    {
     "name": "stdout",
     "output_type": "stream",
     "text": [
      "Average Training Loss: 0.0109\n",
      "Test Accuracy: 97.51%\n",
      "Average Cosine Similarity: 0.9765\n",
      "Epoch 13/20\n"
     ]
    },
    {
     "name": "stderr",
     "output_type": "stream",
     "text": [
      "Training Batches: 100%|██████████| 469/469 [00:02<00:00, 156.64it/s]\n"
     ]
    },
    {
     "name": "stdout",
     "output_type": "stream",
     "text": [
      "Average Training Loss: 0.0097\n",
      "Test Accuracy: 97.61%\n",
      "Average Cosine Similarity: 0.9743\n",
      "Epoch 14/20\n"
     ]
    },
    {
     "name": "stderr",
     "output_type": "stream",
     "text": [
      "Training Batches: 100%|██████████| 469/469 [00:03<00:00, 146.85it/s]\n"
     ]
    },
    {
     "name": "stdout",
     "output_type": "stream",
     "text": [
      "Average Training Loss: 0.0118\n",
      "Test Accuracy: 97.56%\n",
      "Average Cosine Similarity: 0.9709\n",
      "Epoch 15/20\n"
     ]
    },
    {
     "name": "stderr",
     "output_type": "stream",
     "text": [
      "Training Batches: 100%|██████████| 469/469 [00:03<00:00, 148.98it/s]\n"
     ]
    },
    {
     "name": "stdout",
     "output_type": "stream",
     "text": [
      "Average Training Loss: 0.0054\n",
      "Test Accuracy: 97.60%\n",
      "Average Cosine Similarity: 0.9783\n",
      "Epoch 16/20\n"
     ]
    },
    {
     "name": "stderr",
     "output_type": "stream",
     "text": [
      "Training Batches: 100%|██████████| 469/469 [00:03<00:00, 134.76it/s]\n"
     ]
    },
    {
     "name": "stdout",
     "output_type": "stream",
     "text": [
      "Average Training Loss: 0.0052\n",
      "Test Accuracy: 98.02%\n",
      "Average Cosine Similarity: 0.9876\n",
      "Epoch 17/20\n"
     ]
    },
    {
     "name": "stderr",
     "output_type": "stream",
     "text": [
      "Training Batches: 100%|██████████| 469/469 [00:03<00:00, 140.36it/s]\n"
     ]
    },
    {
     "name": "stdout",
     "output_type": "stream",
     "text": [
      "Average Training Loss: 0.0013\n",
      "Test Accuracy: 97.74%\n",
      "Average Cosine Similarity: 0.9920\n",
      "Epoch 18/20\n"
     ]
    },
    {
     "name": "stderr",
     "output_type": "stream",
     "text": [
      "Training Batches: 100%|██████████| 469/469 [00:03<00:00, 142.13it/s]\n"
     ]
    },
    {
     "name": "stdout",
     "output_type": "stream",
     "text": [
      "Average Training Loss: 0.0081\n",
      "Test Accuracy: 97.31%\n",
      "Average Cosine Similarity: 0.9590\n",
      "Epoch 19/20\n"
     ]
    },
    {
     "name": "stderr",
     "output_type": "stream",
     "text": [
      "Training Batches: 100%|██████████| 469/469 [00:05<00:00, 86.27it/s] \n"
     ]
    },
    {
     "name": "stdout",
     "output_type": "stream",
     "text": [
      "Average Training Loss: 0.0136\n",
      "Test Accuracy: 97.55%\n",
      "Average Cosine Similarity: 0.9662\n",
      "Epoch 20/20\n"
     ]
    },
    {
     "name": "stderr",
     "output_type": "stream",
     "text": [
      "Training Batches: 100%|██████████| 469/469 [00:02<00:00, 157.41it/s]\n"
     ]
    },
    {
     "name": "stdout",
     "output_type": "stream",
     "text": [
      "Average Training Loss: 0.0036\n",
      "Test Accuracy: 97.51%\n",
      "Average Cosine Similarity: 0.9830\n"
     ]
    }
   ],
   "source": [
    "import torch\n",
    "import torch.nn as nn\n",
    "import torch.optim as optim\n",
    "from torch.utils.data import DataLoader\n",
    "from torchvision import datasets, transforms\n",
    "from tqdm import tqdm\n",
    "import torch.nn.functional as F\n",
    "\n",
    "# Define the simple feedforward neural network\n",
    "class SimpleNN(nn.Module):\n",
    "    def __init__(self, layer_dims=[784, 100, 10], activation_type=\"relu\", bias=True):\n",
    "        super(SimpleNN, self).__init__()\n",
    "        self.layer_dims = layer_dims\n",
    "        self.activation_type = activation_type\n",
    "        self.bias = bias\n",
    "\n",
    "        # Create linear layers using a ModuleList\n",
    "        self.layers = nn.ModuleList()\n",
    "        for i in range(len(self.layer_dims) - 1):\n",
    "            layer = nn.Linear(self.layer_dims[i], self.layer_dims[i + 1], bias=bias)\n",
    "            nn.init.xavier_uniform_(layer.weight)  # Xavier initialization\n",
    "            self.layers.append(layer)\n",
    "\n",
    "        self._set_activation()\n",
    "    \n",
    "    def _set_activation(self):\n",
    "        # Set activation function\n",
    "        if self.activation_type.lower() == \"sigmoid\":\n",
    "            self.activation = nn.Sigmoid()\n",
    "        elif self.activation_type.lower() == \"tanh\":\n",
    "            self.activation = nn.Tanh()\n",
    "        elif self.activation_type.lower() == \"relu\":\n",
    "            self.activation = nn.ReLU()\n",
    "        elif self.activation_type.lower() == \"identity\":\n",
    "            self.activation = nn.Identity()\n",
    "        else:\n",
    "            raise NotImplementedError(f\"Activation type '{self.activation_type}' is not recognized.\")\n",
    "    \n",
    "    def forward(self, x):\n",
    "        for layer in self.layers[:]:\n",
    "            x = (layer(self.activation(x)))\n",
    "        # x = self.layers[-1](x)  # No activation on the output layer\n",
    "        return x\n",
    "\n",
    "# Training function\n",
    "def train_model(model, train_loader, optimizer, criterion, device):\n",
    "    model.train()\n",
    "    total_loss = 0\n",
    "    for data, target in tqdm(train_loader, desc=\"Training Batches\", total=len(train_loader)):\n",
    "        data, target = data.view(data.size(0), -1).to(device), target.to(device)\n",
    "        optimizer.zero_grad()\n",
    "        output = model(data)\n",
    "        loss = criterion(output, target)\n",
    "        loss.backward()\n",
    "        optimizer.step()\n",
    "        total_loss += loss.item()\n",
    "    avg_loss = total_loss / len(train_loader)\n",
    "    print(f\"Average Training Loss: {avg_loss:.4f}\")\n",
    "\n",
    "# Evaluation function with cosine similarity\n",
    "def evaluate_model(model, test_loader, device, prev_output=None):\n",
    "    model.eval()\n",
    "    correct = 0\n",
    "    total = 0\n",
    "    cosine_similarities = []\n",
    "    batch_index = 0\n",
    "\n",
    "    with torch.no_grad():\n",
    "        for data, target in test_loader:\n",
    "            input_pattern = data.view(data.size(0), -1).to(device)\n",
    "            target = target.to(device)\n",
    "            output = model(input_pattern)\n",
    "            _, predicted = torch.max(output, 1)\n",
    "            total += target.size(0)\n",
    "            correct += (predicted == target).sum().item()\n",
    "\n",
    "            if prev_output is not None:\n",
    "                prev_output_batch = prev_output[batch_index:batch_index + data.size(0)].to(device)\n",
    "                target_one_hot = F.one_hot(target, num_classes=output.size(1)).float()\n",
    "                prev_diff = target_one_hot - prev_output_batch\n",
    "                current_diff = target_one_hot - output\n",
    "                cosine_similarity = F.cosine_similarity(prev_diff, current_diff, dim=1).mean().item()\n",
    "                cosine_similarities.append(cosine_similarity)\n",
    "\n",
    "            batch_index += data.size(0)\n",
    "            if prev_output is None:\n",
    "                prev_output = output.clone().detach()\n",
    "            else:\n",
    "                prev_output[batch_index - data.size(0):batch_index] = output.clone().detach()\n",
    "\n",
    "    accuracy = 100.0 * correct / total\n",
    "    print(f'Test Accuracy: {accuracy:.2f}%')\n",
    "\n",
    "    if cosine_similarities:\n",
    "        avg_cosine_similarity = sum(cosine_similarities) / len(cosine_similarities)\n",
    "        print(f'Average Cosine Similarity: {avg_cosine_similarity:.4f}')\n",
    "\n",
    "    return prev_output\n",
    "\n",
    "# Function to get initial output\n",
    "def get_output(model, test_loader, device):\n",
    "    model.eval()\n",
    "    outputs = []\n",
    "\n",
    "    with torch.no_grad():\n",
    "        for data, _ in test_loader:\n",
    "            input_pattern = data.view(data.size(0), -1).to(device)\n",
    "            output = model(input_pattern)\n",
    "            outputs.append(output)\n",
    "\n",
    "    final_output = torch.cat(outputs, dim=0)\n",
    "    print(final_output.shape)\n",
    "    return final_output\n",
    "\n",
    "if __name__ == \"__main__\":\n",
    "    # Parameters\n",
    "    batch_size = 128\n",
    "    layer_dims = [784, 256, 128, 10]\n",
    "    num_epochs = 20\n",
    "    learning_rate = 0.001\n",
    "    activation_type = \"relu\"  # Options: \"sigmoid\", \"tanh\", \"relu\", \"identity\"\n",
    "    bias = True\n",
    "\n",
    "    use_gpu = False  # Set to True if you want to use GPU\n",
    "\n",
    "    # Data loaders\n",
    "    transform = transforms.Compose([\n",
    "        transforms.ToTensor(),\n",
    "        transforms.Normalize((0.5,), (0.5,))\n",
    "    ])\n",
    "\n",
    "    train_dataset = datasets.MNIST(root='./data', train=True, download=True, transform=transform)\n",
    "    test_dataset = datasets.MNIST(root='./data', train=False, download=True, transform=transform)\n",
    "\n",
    "    train_loader = DataLoader(train_dataset, batch_size=batch_size, shuffle=True)\n",
    "    test_loader = DataLoader(test_dataset, batch_size=batch_size, shuffle=False)\n",
    "\n",
    "    model = SimpleNN(layer_dims=layer_dims, activation_type=activation_type, bias=bias)\n",
    "\n",
    "    device = torch.device(\"cuda\" if torch.cuda.is_available() and use_gpu else \"cpu\")\n",
    "    model.to(device)\n",
    "    print(f\"Using device: {device}\")\n",
    "\n",
    "    optimizer = optim.Adam(model.parameters(), lr=learning_rate)\n",
    "    criterion = nn.CrossEntropyLoss()\n",
    "\n",
    "    prev_output = get_output(model, test_loader, device=device)  # Get the initial output\n",
    "\n",
    "    for epoch in range(num_epochs):\n",
    "        print(f'Epoch {epoch+1}/{num_epochs}')\n",
    "        train_model(model, train_loader, optimizer, criterion, device)\n",
    "        prev_output = evaluate_model(model, test_loader, device, prev_output=prev_output)\n"
   ]
  },
  {
   "cell_type": "code",
   "execution_count": 29,
   "metadata": {},
   "outputs": [],
   "source": [
    "average_cosine_similarity_values_predictive_coding = [\n",
    "    0.9949, 0.9998, 0.9999, 0.9998, 0.9998, 0.9998, 0.9998, 0.9998,\n",
    "    0.9998, 0.9998, 0.9998, 0.9998, 0.9997, 0.9998, 0.9998, 0.9998,\n",
    "    0.9997, 0.9998, 0.9998, 0.9996\n",
    "]\n",
    "average_cosine_similarity_values_back_propagation = [\n",
    "    -0.4694, 0.9601, 0.9686, 0.9694, 0.9808, 0.9831, 0.9697, 0.9720, 0.9637,\n",
    "    0.9755, 0.9775, 0.9765, 0.9743, 0.9709, 0.9783, 0.9876, 0.9920, 0.9590,\n",
    "    0.9662, 0.9830\n",
    "]"
   ]
  },
  {
   "cell_type": "code",
   "execution_count": 32,
   "metadata": {},
   "outputs": [
    {
     "data": {
      "image/png": "[encoded data removed]",
      "text/plain": [
       "<Figure size 1000x600 with 1 Axes>"
      ]
     },
     "metadata": {},
     "output_type": "display_data"
    }
   ],
   "source": [
    "import matplotlib.pyplot as plt\n",
    "\n",
    "# Example data\n",
    "epochs = list(range(1, 21))  # Assuming 20 epochs\n",
    "\n",
    "\n",
    "# Plotting\n",
    "plt.figure(figsize=(10, 6))\n",
    "plt.plot(epochs, average_cosine_similarity_values_back_propagation, marker='o', linestyle='-', color='g', label='Backpropagation')\n",
    "plt.plot(epochs, average_cosine_similarity_values_predictive_coding, marker='o', linestyle='-', color='r', label='Predictive Coding')\n",
    "plt.xlabel('Epoch')\n",
    "plt.ylabel('Target Alignment')\n",
    "plt.ylim(0.95, 1.0)\n",
    "plt.xlim(1, 20)\n",
    "plt.title('Target Alignment Over Epochs')\n",
    "plt.grid(True)\n",
    "plt.xticks(epochs)  # This ensures all epochs are marked on the x-axis\n",
    "plt.show()"
   ]
  }
 ],
 "metadata": {
  "kernelspec": {
   "display_name": "myenv",
   "language": "python",
   "name": "python3"
  },
  "language_info": {
   "codemirror_mode": {
    "name": "ipython",
    "version": 3
   },
   "file_extension": ".py",
   "mimetype": "text/x-python",
   "name": "python",
   "nbconvert_exporter": "python",
   "pygments_lexer": "ipython3",
   "version": "3.12.0"
  }
 },
 "nbformat": 4,
 "nbformat_minor": 2
}
